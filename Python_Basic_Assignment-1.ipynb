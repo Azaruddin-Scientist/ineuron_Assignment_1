{
 "cells": [
  {
   "cell_type": "markdown",
   "id": "b373b56f",
   "metadata": {},
   "source": [
    "1. In the below elements which of them are values or an expression? eg:- values can be integer or string and expressions will be mathematical operators.##\n",
    "\n",
    "(*) is expression\n",
    "\n",
    "('hello') is value\n",
    "\n",
    "(-87.8) is value\n",
    "\n",
    "(-) is expression\n",
    "\n",
    "(/) is expression\n",
    "\n",
    "(+) is  expression\n",
    "\n",
    "(6) is value\n"
   ]
  },
  {
   "cell_type": "markdown",
   "id": "0b609e83",
   "metadata": {},
   "source": [
    "2. What is the difference between string and variable?                        \n",
    " Ans: A string can be stored inside variable but a variable cannot be stored inside string"
   ]
  },
  {
   "cell_type": "markdown",
   "id": "1a2354fd",
   "metadata": {},
   "source": [
    "3. Describe three different data types.                      \n",
    "    ans: \n",
    " \n",
    "        1. list:- is collection of items which is ordered, \n",
    "        changeable and allow duplication\n",
    "        2. tuple:- is collection of items which is ordered, \n",
    "        unchageable, allow duplication\n",
    "        3. set:-is collection of items which is unordered, \n",
    "        unchageable, no duplication \n",
    "        "
   ]
  },
  {
   "cell_type": "markdown",
   "id": "dd6aef8e",
   "metadata": {},
   "source": [
    "4.What is an expression made up of?                                               \n",
    "  ans: An expression is a combination of values, variables, \n",
    "    operators, and calls to functions.\n",
    "    * expression always evaluate down to a single value"
   ]
  },
  {
   "cell_type": "markdown",
   "id": "7061df0b",
   "metadata": {},
   "source": [
    "5. This assignment statements, like spam = 10. What is the difference between an expression and a statement?                        \n",
    "ANS: the combination of spam and 10 is expression and spam is just statement\n"
   ]
  },
  {
   "cell_type": "markdown",
   "id": "96006e2b",
   "metadata": {},
   "source": [
    "6. After running the following code, what does the variable bacon contain?\n",
    "\n",
    "bacon = 22\n",
    "\n",
    "bacon + 1\n",
    "##### ans: bacon still contain value 22"
   ]
  },
  {
   "cell_type": "markdown",
   "id": "2276401a",
   "metadata": {},
   "source": [
    "7. What should the values of the following two terms be?\n",
    "\n",
    "'spam' + 'spamspam'\n",
    "\n",
    "'spam' * 3\n",
    "###### ans: value for both is same which is 'spamspamspam'"
   ]
  },
  {
   "cell_type": "markdown",
   "id": "c7f42699",
   "metadata": {},
   "source": [
    "8. Why is eggs a valid variable name while 100 is invalid?\n",
    "\n",
    "### ans: we can't start giving variable an integer name. if we, we should begin with, a string-like alphabet name then integer. in100 or eggs100 is valid\n"
   ]
  },
  {
   "cell_type": "markdown",
   "id": "5f166b30",
   "metadata": {},
   "source": [
    "9. What three functions can be used to get the integer, floating-point number, or string version of a value?\n",
    "ans: int(), float(), str()"
   ]
  },
  {
   "cell_type": "markdown",
   "id": "2c8cc2f9",
   "metadata": {},
   "source": [
    "10. Why does this expression cause an error? How can you fix it?\n",
    "'I have eaten ' + 99 + ' burritos.'\n",
    "\n",
    "ans: python can only concatenate string to string, not integer value in middle of string.\n",
    "correct way is \n",
    "### 'I have eaten ' + '99' + ' burritos.'"
   ]
  },
  {
   "cell_type": "code",
   "execution_count": 13,
   "id": "1a92b43b",
   "metadata": {},
   "outputs": [
    {
     "data": {
      "text/plain": [
       "'I have eaten 99 burritos.'"
      ]
     },
     "execution_count": 13,
     "metadata": {},
     "output_type": "execute_result"
    }
   ],
   "source": [
    "'I have eaten ' + '99' + ' burritos.'"
   ]
  },
  {
   "cell_type": "markdown",
   "id": "368125b8",
   "metadata": {},
   "source": []
  },
  {
   "cell_type": "markdown",
   "id": "dc2086ce",
   "metadata": {},
   "source": []
  }
 ],
 "metadata": {
  "kernelspec": {
   "display_name": "Python 3",
   "language": "python",
   "name": "python3"
  },
  "language_info": {
   "codemirror_mode": {
    "name": "ipython",
    "version": 3
   },
   "file_extension": ".py",
   "mimetype": "text/x-python",
   "name": "python",
   "nbconvert_exporter": "python",
   "pygments_lexer": "ipython3",
   "version": "3.8.8"
  }
 },
 "nbformat": 4,
 "nbformat_minor": 5
}
